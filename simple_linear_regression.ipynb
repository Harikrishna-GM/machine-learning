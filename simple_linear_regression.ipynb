{
  "nbformat": 4,
  "nbformat_minor": 0,
  "metadata": {
    "colab": {
      "name": "simple_linear_regression.ipynb",
      "provenance": [],
      "collapsed_sections": [],
      "authorship_tag": "ABX9TyOU75RhZ5GO+E8NMlYEjBrC",
      "include_colab_link": true
    },
    "kernelspec": {
      "name": "python3",
      "display_name": "Python 3"
    }
  },
  "cells": [
    {
      "cell_type": "markdown",
      "metadata": {
        "id": "view-in-github",
        "colab_type": "text"
      },
      "source": [
        "<a href=\"https://colab.research.google.com/github/Harikrishna-GM/machine-learning/blob/main/simple_linear_regression.ipynb\" target=\"_parent\"><img src=\"https://colab.research.google.com/assets/colab-badge.svg\" alt=\"Open In Colab\"/></a>"
      ]
    },
    {
      "cell_type": "code",
      "metadata": {
        "id": "4lIFEx1oNsYL"
      },
      "source": [
        "# Importing Libraries"
      ],
      "execution_count": 1,
      "outputs": []
    },
    {
      "cell_type": "code",
      "metadata": {
        "id": "uykS3_MbNCmG"
      },
      "source": [
        "import numpy as np\r\n",
        "import pandas as pd\r\n",
        "import matplotlib.pyplot as plt\r\n",
        "import seaborn as sns"
      ],
      "execution_count": 2,
      "outputs": []
    },
    {
      "cell_type": "code",
      "metadata": {
        "colab": {
          "base_uri": "https://localhost:8080/",
          "height": 204
        },
        "id": "fusM8EetNUX-",
        "outputId": "014eb3f0-c029-44dd-d17d-9b0cc89d9238"
      },
      "source": [
        "# reading data\r\n",
        "df=pd.read_csv('/content/sat.csv')\r\n",
        "df.head()"
      ],
      "execution_count": 3,
      "outputs": [
        {
          "output_type": "execute_result",
          "data": {
            "text/html": [
              "<div>\n",
              "<style scoped>\n",
              "    .dataframe tbody tr th:only-of-type {\n",
              "        vertical-align: middle;\n",
              "    }\n",
              "\n",
              "    .dataframe tbody tr th {\n",
              "        vertical-align: top;\n",
              "    }\n",
              "\n",
              "    .dataframe thead th {\n",
              "        text-align: right;\n",
              "    }\n",
              "</style>\n",
              "<table border=\"1\" class=\"dataframe\">\n",
              "  <thead>\n",
              "    <tr style=\"text-align: right;\">\n",
              "      <th></th>\n",
              "      <th>SAT</th>\n",
              "      <th>GPA</th>\n",
              "    </tr>\n",
              "  </thead>\n",
              "  <tbody>\n",
              "    <tr>\n",
              "      <th>0</th>\n",
              "      <td>1714</td>\n",
              "      <td>2.40</td>\n",
              "    </tr>\n",
              "    <tr>\n",
              "      <th>1</th>\n",
              "      <td>1664</td>\n",
              "      <td>2.52</td>\n",
              "    </tr>\n",
              "    <tr>\n",
              "      <th>2</th>\n",
              "      <td>1760</td>\n",
              "      <td>2.54</td>\n",
              "    </tr>\n",
              "    <tr>\n",
              "      <th>3</th>\n",
              "      <td>1685</td>\n",
              "      <td>2.74</td>\n",
              "    </tr>\n",
              "    <tr>\n",
              "      <th>4</th>\n",
              "      <td>1693</td>\n",
              "      <td>2.83</td>\n",
              "    </tr>\n",
              "  </tbody>\n",
              "</table>\n",
              "</div>"
            ],
            "text/plain": [
              "    SAT   GPA\n",
              "0  1714  2.40\n",
              "1  1664  2.52\n",
              "2  1760  2.54\n",
              "3  1685  2.74\n",
              "4  1693  2.83"
            ]
          },
          "metadata": {
            "tags": []
          },
          "execution_count": 3
        }
      ]
    },
    {
      "cell_type": "code",
      "metadata": {
        "colab": {
          "base_uri": "https://localhost:8080/"
        },
        "id": "UBHUwnnaOe2N",
        "outputId": "c17e1016-e347-4d01-a299-a446142ce9f0"
      },
      "source": [
        "df.shape"
      ],
      "execution_count": 4,
      "outputs": [
        {
          "output_type": "execute_result",
          "data": {
            "text/plain": [
              "(84, 2)"
            ]
          },
          "metadata": {
            "tags": []
          },
          "execution_count": 4
        }
      ]
    },
    {
      "cell_type": "code",
      "metadata": {
        "id": "67hZEYmFOtZr"
      },
      "source": [
        "# the above data set contains 84 rows and 2 columns"
      ],
      "execution_count": 5,
      "outputs": []
    },
    {
      "cell_type": "code",
      "metadata": {
        "colab": {
          "base_uri": "https://localhost:8080/"
        },
        "id": "02FDwsajO7Oa",
        "outputId": "86526e3b-d827-4adc-b40e-a8f186ef1ec7"
      },
      "source": [
        "# checking for null values\r\n",
        "df.isna().sum()"
      ],
      "execution_count": 6,
      "outputs": [
        {
          "output_type": "execute_result",
          "data": {
            "text/plain": [
              "SAT    0\n",
              "GPA    0\n",
              "dtype: int64"
            ]
          },
          "metadata": {
            "tags": []
          },
          "execution_count": 6
        }
      ]
    },
    {
      "cell_type": "code",
      "metadata": {
        "id": "xYDHKfHAPCop"
      },
      "source": [
        "# dataset contains zero null values\r\n",
        "# the other method to check null values is by using heat map as shown below"
      ],
      "execution_count": 7,
      "outputs": []
    },
    {
      "cell_type": "code",
      "metadata": {
        "colab": {
          "base_uri": "https://localhost:8080/",
          "height": 286
        },
        "id": "K0rW3XR0QUmw",
        "outputId": "07312dc4-3cb6-41d3-a08d-d59552f91129"
      },
      "source": [
        "sns.heatmap(df.isnull())\r\n",
        "# since we have zero null values the colour of heatmap is very clear "
      ],
      "execution_count": 8,
      "outputs": [
        {
          "output_type": "execute_result",
          "data": {
            "text/plain": [
              "<matplotlib.axes._subplots.AxesSubplot at 0x7fa88bcbcd90>"
            ]
          },
          "metadata": {
            "tags": []
          },
          "execution_count": 8
        },
        {
          "output_type": "display_data",
          "data": {
            "image/png": "[encoded data removed]",
            "text/plain": [
              "<Figure size 432x288 with 2 Axes>"
            ]
          },
          "metadata": {
            "tags": [],
            "needs_background": "light"
          }
        }
      ]
    },
    {
      "cell_type": "code",
      "metadata": {
        "colab": {
          "base_uri": "https://localhost:8080/"
        },
        "id": "fLTom5DfQpUf",
        "outputId": "e5c1a807-3c0a-4474-b7b1-fbf21b20b149"
      },
      "source": [
        "# splitting data into independent(x) variable and dependent(y) variable\r\n",
        "x=df[['SAT']]\r\n",
        "y=df['GPA']\r\n",
        "x,y"
      ],
      "execution_count": 9,
      "outputs": [
        {
          "output_type": "execute_result",
          "data": {
            "text/plain": [
              "(     SAT\n",
              " 0   1714\n",
              " 1   1664\n",
              " 2   1760\n",
              " 3   1685\n",
              " 4   1693\n",
              " ..   ...\n",
              " 79  1936\n",
              " 80  1810\n",
              " 81  1987\n",
              " 82  1962\n",
              " 83  2050\n",
              " \n",
              " [84 rows x 1 columns], 0     2.40\n",
              " 1     2.52\n",
              " 2     2.54\n",
              " 3     2.74\n",
              " 4     2.83\n",
              "       ... \n",
              " 79    3.71\n",
              " 80    3.71\n",
              " 81    3.73\n",
              " 82    3.76\n",
              " 83    3.81\n",
              " Name: GPA, Length: 84, dtype: float64)"
            ]
          },
          "metadata": {
            "tags": []
          },
          "execution_count": 9
        }
      ]
    },
    {
      "cell_type": "code",
      "metadata": {
        "colab": {
          "base_uri": "https://localhost:8080/"
        },
        "id": "fJAw5Firi0ms",
        "outputId": "c5478810-ccf1-48b1-c29f-ced97637be77"
      },
      "source": [
        "#model building\r\n",
        "from sklearn.linear_model import LinearRegression\r\n",
        "model=LinearRegression()\r\n",
        "model.fit(x,y)"
      ],
      "execution_count": 10,
      "outputs": [
        {
          "output_type": "execute_result",
          "data": {
            "text/plain": [
              "LinearRegression(copy_X=True, fit_intercept=True, n_jobs=None, normalize=False)"
            ]
          },
          "metadata": {
            "tags": []
          },
          "execution_count": 10
        }
      ]
    },
    {
      "cell_type": "code",
      "metadata": {
        "colab": {
          "base_uri": "https://localhost:8080/"
        },
        "id": "P33i1iTkjGgk",
        "outputId": "16846d1e-b41c-4c22-85e1-5102b6315372"
      },
      "source": [
        "# predicting y for testing data\r\n",
        "y_predict=model.predict(x)\r\n",
        "print(y_predict) "
      ],
      "execution_count": 11,
      "outputs": [
        {
          "output_type": "stream",
          "text": [
            "[3.11288962 3.03010522 3.18905127 3.06487466 3.07812017 3.04003934\n",
            " 3.19567402 3.19567402 3.24203329 3.33806319 3.14765907 3.21388659\n",
            " 3.14765907 3.10957824 3.21057521 3.37448833 3.18077283 3.0466621\n",
            " 3.32481769 3.23209916 3.19070696 3.12613512 3.02844953 3.06818604\n",
            " 3.54336851 3.29832668 3.23375485 3.29004824 3.61953016 3.24534466\n",
            " 3.20395246 3.47714099 3.21388659 3.34634163 3.38773383 3.3364075\n",
            " 3.26852429 3.51025475 3.21719796 3.30660512 3.36289851 3.33806319\n",
            " 3.53012301 3.09302136 3.56985952 3.4622398  3.2950153  3.51356613\n",
            " 3.34965301 3.55164695 3.25859017 3.34634163 3.43243741 2.98043457\n",
            " 3.38607815 3.39932365 3.13938063 3.50859906 3.22382072 3.4059464\n",
            " 3.52681163 3.26852429 3.40925778 3.65429961 3.40925778 3.30826081\n",
            " 3.33806319 3.47714099 3.35627576 3.47217392 3.4754853  3.21885365\n",
            " 3.5450242  3.47714099 3.62118585 3.61125172 3.58144934 3.61953016\n",
            " 3.32647338 3.48045236 3.27183567 3.56489246 3.52350025 3.6692008 ]\n"
          ],
          "name": "stdout"
        }
      ]
    },
    {
      "cell_type": "code",
      "metadata": {
        "colab": {
          "base_uri": "https://localhost:8080/",
          "height": 312
        },
        "id": "DWhv_B6ekyh8",
        "outputId": "ab3fed38-3b48-4fb9-86af-cc56da06c888"
      },
      "source": [
        "# ploting \r\n",
        "plt.scatter(x,y)\r\n",
        "plt.plot(x,y_predict,c='r')\r\n",
        "plt.xlabel('SAT SCORE')\r\n",
        "plt.ylabel('GPA')\r\n",
        "plt.title('SIMPLE LINEAR REGRESSION PLOT')"
      ],
      "execution_count": 12,
      "outputs": [
        {
          "output_type": "execute_result",
          "data": {
            "text/plain": [
              "Text(0.5, 1.0, 'SIMPLE LINEAR REGRESSION PLOT')"
            ]
          },
          "metadata": {
            "tags": []
          },
          "execution_count": 12
        },
        {
          "output_type": "display_data",
          "data": {
            "image/png": "[encoded data removed]",
            "text/plain": [
              "<Figure size 432x288 with 1 Axes>"
            ]
          },
          "metadata": {
            "tags": [],
            "needs_background": "light"
          }
        }
      ]
    },
    {
      "cell_type": "code",
      "metadata": {
        "id": "XNvaKHKolOCv"
      },
      "source": [
        "# evaluating model\r\n",
        "from sklearn.metrics import mean_absolute_error,mean_squared_error,r2_score"
      ],
      "execution_count": 13,
      "outputs": []
    },
    {
      "cell_type": "code",
      "metadata": {
        "colab": {
          "base_uri": "https://localhost:8080/"
        },
        "id": "RINQDsQXmfbD",
        "outputId": "e648fc4d-c227-4db4-d807-be3ba8bbc4f3"
      },
      "source": [
        "print('mean absolute error :',mean_absolute_error(y,y_predict))\r\n",
        "print('meann squared error :',mean_squared_error(y,y_predict))\r\n",
        "print(\"root mean squared error :\",np.sqrt(mean_squared_error(y,y_predict)))\r\n",
        "print('r2 score :',r2_score(y,y_predict))"
      ],
      "execution_count": 14,
      "outputs": [
        {
          "output_type": "stream",
          "text": [
            "mean absolute error : 0.15496879012561524\n",
            "meann squared error : 0.04330086666167266\n",
            "root mean squared error : 0.2080886029115306\n",
            "r2 score : 0.40600391479679754\n"
          ],
          "name": "stdout"
        }
      ]
    },
    {
      "cell_type": "code",
      "metadata": {
        "id": "WZOfARO-nihj"
      },
      "source": [
        "# our model got only 40.60% accuracy hence our model is not so good\r\n",
        "#Note: model with more than 50% accuracy is considered as good model."
      ],
      "execution_count": 15,
      "outputs": []
    },
    {
      "cell_type": "code",
      "metadata": {
        "colab": {
          "base_uri": "https://localhost:8080/"
        },
        "id": "dezWgf3EoBL7",
        "outputId": "66e5f9e4-0dc3-4f9d-9448-58e7f78a5c2d"
      },
      "source": [
        "# predicting y for new x feature\r\n",
        "#let x=2500\r\n",
        "print('GPA for SAT score 2500 is :',model.predict([[2500]]))"
      ],
      "execution_count": 16,
      "outputs": [
        {
          "output_type": "stream",
          "text": [
            "GPA for SAT score 2500 is : [4.41426042]\n"
          ],
          "name": "stdout"
        }
      ]
    },
    {
      "cell_type": "code",
      "metadata": {
        "id": "bexShUFRodHK"
      },
      "source": [
        ""
      ],
      "execution_count": 16,
      "outputs": []
    }
  ]
}